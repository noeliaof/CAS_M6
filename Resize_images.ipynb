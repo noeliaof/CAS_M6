{
 "cells": [
  {
   "cell_type": "code",
   "execution_count": null,
   "id": "1f0e778a-ae8d-45f8-92c7-3900ba9d979f",
   "metadata": {},
   "outputs": [],
   "source": [
    "from IPython.display import HTML, display\n",
    "import torch\n",
    "import torch.nn as nn\n",
    "from torch.functional import F\n",
    "import torch.optim as optim\n",
    "from torch.utils.data import Dataset, DataLoader\n",
    "from torch.utils.data import random_split\n",
    "import torchvision\n",
    "from torchvision import transforms\n",
    "import torchvision.transforms as T\n",
    "from torchvision.utils import make_grid\n",
    "from torchvision.utils import save_image\n",
    "from torchvision.datasets import ImageFolder\n",
    "\n",
    "import albumentations as albu  \n",
    "\n",
    "from sklearn.model_selection import train_test_split\n",
    "from sklearn.metrics import roc_auc_score\n",
    "\n",
    "from skimage.draw import random_shapes\n",
    "from matplotlib import pyplot as plt\n",
    "import matplotlib.animation as animation\n",
    "from matplotlib import font_manager, rc\n",
    "from IPython import display\n",
    "from PIL import Image\n",
    "import numpy as np\n",
    "import random\n",
    "import glob\n",
    "import os\n",
    "from os import listdir\n",
    "from os.path import isfile, join\n",
    "import pandas as pd\n",
    "from tqdm import tqdm\n",
    "from tqdm import tqdm_notebook\n",
    "import cv2"
   ]
  },
  {
   "cell_type": "code",
   "execution_count": null,
   "id": "ee340b18-b6df-41a9-9b5c-7ae9020329dd",
   "metadata": {},
   "outputs": [],
   "source": [
    "PATH= 'understanding_cloud_organization/'"
   ]
  },
  {
   "cell_type": "code",
   "execution_count": null,
   "id": "e3db5b43-7903-4e44-ad96-b95d52b868d0",
   "metadata": {},
   "outputs": [],
   "source": [
    "ORI_SIZE = (1400, 2100) # (height, width)\n",
    "NEW_SIZE = (384, 576) # (height, width)\n",
    "\n",
    "import cv2\n",
    "INTERPOLATION = cv2.INTER_CUBIC"
   ]
  },
  {
   "cell_type": "code",
   "execution_count": null,
   "id": "ac37943f-afbe-43a4-a269-9efbd40978ea",
   "metadata": {},
   "outputs": [],
   "source": [
    "\n",
    "def mask2rle(img):\n",
    "    \"\"\"\n",
    "    img: numpy array, 1 - mask, 0 - background\n",
    "    Returns run length as string formatted\n",
    "    \"\"\"\n",
    "    pixels = img.T.flatten()\n",
    "    pixels = np.concatenate([[0], pixels, [0]])\n",
    "    runs = np.where(pixels[1:] != pixels[:-1])[0] + 1\n",
    "    runs[1::2] -= runs[::2]\n",
    "    return ' '.join(str(x) for x in runs)\n",
    "\n",
    "\n",
    "def rle2mask(mask_rle, shape):\n",
    "    \"\"\"\n",
    "    mask_rle: run-length as string formatted (start length)\n",
    "    shape: (width,height) of array to return\n",
    "    Returns numpy array, 1 - mask, 0 - background\n",
    "    \"\"\"\n",
    "    s = mask_rle.split()\n",
    "    starts, lengths = [np.asarray(x, dtype=int) for x in\n",
    "                       (s[0:][::2], s[1:][::2])]\n",
    "    starts -= 1\n",
    "    ends = starts + lengths\n",
    "    img = np.zeros(shape[0] * shape[1], dtype=np.uint8)\n",
    "    for lo, hi in zip(starts, ends):\n",
    "        img[lo:hi] = 1\n",
    "    return img.reshape(shape).T"
   ]
  },
  {
   "cell_type": "code",
   "execution_count": null,
   "id": "f3fdcdd4-b17c-4ef0-95ab-db2b29d03f84",
   "metadata": {},
   "outputs": [],
   "source": [
    "df = pd.read_csv(os.path.join(PATH, 'train.csv'))"
   ]
  },
  {
   "cell_type": "code",
   "execution_count": null,
   "id": "e1fe1267-d6c3-49df-95f2-af5ca401a6ab",
   "metadata": {},
   "outputs": [],
   "source": [
    "for idx, row in df.iterrows():\n",
    "    encodedpixels = row[1]\n",
    "    if encodedpixels is not np.nan:\n",
    "        mask = rle2mask(encodedpixels, shape=ORI_SIZE[::-1])\n",
    "        mask = cv2.resize(mask, NEW_SIZE[::-1], interpolation=INTERPOLATION)\n",
    "\n",
    "        rle = mask2rle(mask)\n",
    "        df.at[idx, 'EncodedPixels'] = rle"
   ]
  },
  {
   "cell_type": "code",
   "execution_count": null,
   "id": "2ca42a2e-5ce8-4905-a5c2-48d71e4b57f6",
   "metadata": {},
   "outputs": [],
   "source": [
    "df.to_csv(PATH + 'resized/train.csv', index=False)"
   ]
  },
  {
   "cell_type": "code",
   "execution_count": null,
   "id": "216dc097-5676-4450-8928-2b794abb2878",
   "metadata": {
    "tags": []
   },
   "outputs": [],
   "source": [
    "train_images_dir = os.path.join(PATH, 'train_images/')\n",
    "image_files = os.listdir(train_images_dir)\n",
    "\n",
    "for image_file in tqdm_notebook(image_files):\n",
    "    #print(image_file)\n",
    "    if image_file != \".ipynb_checkpoints\":\n",
    "        img = cv2.imread(os.path.join(train_images_dir, image_file))\n",
    "        img = cv2.resize(img, NEW_SIZE[::-1], interpolation=INTERPOLATION)\n",
    "\n",
    "    dst = os.path.join('understanding_cloud_organization/resized/train_images/', image_file)\n",
    "    cv2.imwrite(dst, img)"
   ]
  },
  {
   "cell_type": "code",
   "execution_count": null,
   "id": "a9d3b143-ee26-49b7-8f52-527a93f96dbe",
   "metadata": {
    "tags": []
   },
   "outputs": [],
   "source": [
    "# test files\n",
    "test_images_dir = os.path.join(PATH, 'test_images')\n",
    "image_files = os.listdir(test_images_dir)\n",
    "\n",
    "for image_file in tqdm_notebook(image_files):\n",
    "    img = cv2.imread(os.path.join(test_images_dir, image_file))\n",
    "    img = cv2.resize(img, NEW_SIZE[::-1], interpolation=INTERPOLATION)\n",
    "\n",
    "    dst = os.path.join('understanding_cloud_organization/resized/test_images', image_file)\n",
    "    cv2.imwrite(dst, img)\n"
   ]
  },
  {
   "cell_type": "code",
   "execution_count": null,
   "id": "cc2cdd81-97b8-4974-9128-45baefb09551",
   "metadata": {},
   "outputs": [],
   "source": []
  },
  {
   "cell_type": "code",
   "execution_count": null,
   "id": "27e6673c-e9e7-4920-8dde-3d016356f450",
   "metadata": {},
   "outputs": [],
   "source": []
  }
 ],
 "metadata": {
  "kernelspec": {
   "display_name": "Python CASM6",
   "language": "python",
   "name": "casm6"
  },
  "language_info": {
   "codemirror_mode": {
    "name": "ipython",
    "version": 3
   },
   "file_extension": ".py",
   "mimetype": "text/x-python",
   "name": "python",
   "nbconvert_exporter": "python",
   "pygments_lexer": "ipython3",
   "version": "3.9.12"
  }
 },
 "nbformat": 4,
 "nbformat_minor": 5
}
